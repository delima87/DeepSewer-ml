{
 "cells": [
  {
   "cell_type": "code",
   "execution_count": 1,
   "metadata": {},
   "outputs": [
    {
     "name": "stderr",
     "output_type": "stream",
     "text": [
      "/home/roberto/anaconda3/envs/pylightning/lib/python3.8/site-packages/tqdm/auto.py:22: TqdmWarning: IProgress not found. Please update jupyter and ipywidgets. See https://ipywidgets.readthedocs.io/en/stable/user_install.html\n",
      "  from .autonotebook import tqdm as notebook_tqdm\n"
     ]
    },
    {
     "ename": "TypeError",
     "evalue": "training_binary_xie2019() missing 1 required positional argument: 'num_classes'",
     "output_type": "error",
     "traceback": [
      "\u001b[0;31m---------------------------------------------------------------------------\u001b[0m",
      "\u001b[0;31mTypeError\u001b[0m                                 Traceback (most recent call last)",
      "\u001b[1;32m/media/roberto/Samsung_T5/HDD/DeepSewer/Deepsewer-ml/example_training.ipynb Cell 1\u001b[0m in \u001b[0;36m<cell line: 10>\u001b[0;34m()\u001b[0m\n\u001b[1;32m      <a href='vscode-notebook-cell:/media/roberto/Samsung_T5/HDD/DeepSewer/Deepsewer-ml/example_training.ipynb#ch0000000?line=7'>8</a>\u001b[0m num_epochs \u001b[39m=\u001b[39m \u001b[39m2\u001b[39m \n\u001b[1;32m      <a href='vscode-notebook-cell:/media/roberto/Samsung_T5/HDD/DeepSewer/Deepsewer-ml/example_training.ipynb#ch0000000?line=8'>9</a>\u001b[0m num_classes \u001b[39m=\u001b[39m \u001b[39m1\u001b[39m   \n\u001b[0;32m---> <a href='vscode-notebook-cell:/media/roberto/Samsung_T5/HDD/DeepSewer/Deepsewer-ml/example_training.ipynb#ch0000000?line=9'>10</a>\u001b[0m training_binary_xie2019(model_path,train_path,val_path,num_epochs,num_classes)\n",
      "\u001b[0;31mTypeError\u001b[0m: training_binary_xie2019() missing 1 required positional argument: 'num_classes'"
     ]
    }
   ],
   "source": [
    "#TRAINING\n",
    "from roefs_trainer_lightning import training_binary_xie2019\n",
    "\n",
    "\n",
    "model_path = \"models/xie2019_binary-binary-version_1.pth\"    \n",
    "train_path = \"roefs_one_classs/train\"    \n",
    "val_path = \"roefs_one_classs/val\"\n",
    "out_path = \"checkpoints/retrained.pth\"\n",
    "num_epochs = 2 \n",
    "num_classes = 1   \n",
    "training_binary_xie2019(model_path,train_path,val_path, out_path, num_epochs,num_classes)"
   ]
  },
  {
   "cell_type": "code",
   "execution_count": 1,
   "metadata": {},
   "outputs": [
    {
     "name": "stderr",
     "output_type": "stream",
     "text": [
      "/home/roberto/anaconda3/envs/pylightning/lib/python3.8/site-packages/tqdm/auto.py:22: TqdmWarning: IProgress not found. Please update jupyter and ipywidgets. See https://ipywidgets.readthedocs.io/en/stable/user_install.html\n",
      "  from .autonotebook import tqdm as notebook_tqdm\n",
      "Global seed set to 1234567890\n"
     ]
    },
    {
     "name": "stdout",
     "output_type": "stream",
     "text": [
      "VALIDATION\n",
      "0 / 7\n"
     ]
    },
    {
     "data": {
      "text/plain": [
       "[['roefs_one_classs/val/defect/00000049.png',\n",
       "  array([0.6456621], dtype=float32)],\n",
       " ['roefs_one_classs/val/defect/00000055.png',\n",
       "  array([0.6838679], dtype=float32)],\n",
       " ['roefs_one_classs/val/defect/00000056.png',\n",
       "  array([0.74370694], dtype=float32)],\n",
       " ['roefs_one_classs/val/defect/00000208.png',\n",
       "  array([0.67519855], dtype=float32)],\n",
       " ['roefs_one_classs/val/defect/00000209.png',\n",
       "  array([0.65197057], dtype=float32)],\n",
       " ['roefs_one_classs/val/defect/00000210.png',\n",
       "  array([0.6772073], dtype=float32)],\n",
       " ['roefs_one_classs/val/defect/00000211.png',\n",
       "  array([0.75728124], dtype=float32)],\n",
       " ['roefs_one_classs/val/defect/00000212.png',\n",
       "  array([0.7063214], dtype=float32)],\n",
       " ['roefs_one_classs/val/defect/00000213.png',\n",
       "  array([0.74779415], dtype=float32)],\n",
       " ['roefs_one_classs/val/defect/00000214.png',\n",
       "  array([0.7452926], dtype=float32)],\n",
       " ['roefs_one_classs/val/defect/00000215.png',\n",
       "  array([0.65104634], dtype=float32)],\n",
       " ['roefs_one_classs/val/defect/00000216.png',\n",
       "  array([0.5929622], dtype=float32)],\n",
       " ['roefs_one_classs/val/defect/00000217.png',\n",
       "  array([0.6351903], dtype=float32)],\n",
       " ['roefs_one_classs/val/defect/00000218.png',\n",
       "  array([0.5865591], dtype=float32)],\n",
       " ['roefs_one_classs/val/defect/00000219.png',\n",
       "  array([0.631361], dtype=float32)],\n",
       " ['roefs_one_classs/val/defect/00000221.png',\n",
       "  array([0.5950106], dtype=float32)],\n",
       " ['roefs_one_classs/val/defect/00000222.png',\n",
       "  array([0.6756513], dtype=float32)],\n",
       " ['roefs_one_classs/val/defect/00000223.png',\n",
       "  array([0.68207306], dtype=float32)],\n",
       " ['roefs_one_classs/val/defect/00000234.png',\n",
       "  array([0.6770532], dtype=float32)],\n",
       " ['roefs_one_classs/val/defect/00000235.png',\n",
       "  array([0.6485101], dtype=float32)],\n",
       " ['roefs_one_classs/val/defect/00000236.png',\n",
       "  array([0.71596557], dtype=float32)],\n",
       " ['roefs_one_classs/val/defect/00000254.png',\n",
       "  array([0.6207003], dtype=float32)],\n",
       " ['roefs_one_classs/val/defect/00000621.png',\n",
       "  array([0.6318029], dtype=float32)],\n",
       " ['roefs_one_classs/val/defect/00000622.png',\n",
       "  array([0.6178535], dtype=float32)],\n",
       " ['roefs_one_classs/val/defect/00000623.png',\n",
       "  array([0.5462109], dtype=float32)]]"
      ]
     },
     "execution_count": 1,
     "metadata": {},
     "output_type": "execute_result"
    }
   ],
   "source": [
    "#PREDICTION\n",
    "from roefs_predict_lightning import estimate_predictions\n",
    "\n",
    "model_path = \"models/rerained.pth\"\n",
    "data_path = \"roefs_one_classs/val\"\n",
    "\n",
    "\n",
    "estimate_predictions(model_path,data_path)\n"
   ]
  }
 ],
 "metadata": {
  "kernelspec": {
   "display_name": "Python 3.8.13 ('pylightning')",
   "language": "python",
   "name": "python3"
  },
  "language_info": {
   "codemirror_mode": {
    "name": "ipython",
    "version": 3
   },
   "file_extension": ".py",
   "mimetype": "text/x-python",
   "name": "python",
   "nbconvert_exporter": "python",
   "pygments_lexer": "ipython3",
   "version": "3.8.13"
  },
  "orig_nbformat": 4,
  "vscode": {
   "interpreter": {
    "hash": "70ce600fe9d3adc34d0344c0324edbaf4a59262e77eef28fdb4d1deceae1ad14"
   }
  }
 },
 "nbformat": 4,
 "nbformat_minor": 2
}
