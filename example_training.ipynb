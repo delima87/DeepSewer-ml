{
 "cells": [
  {
   "cell_type": "code",
   "execution_count": null,
   "metadata": {},
   "outputs": [],
   "source": [
    "#TRAINING binary_xie2019\n",
    "from roefs_trainer_lightning import training_binary_xie2019\n",
    "\n",
    "\n",
    "model_path = \"models/xie2019_binary-binary-version_1.pth\"    \n",
    "train_path = \"roefs_one_classs/train\"    \n",
    "val_path = \"roefs_one_classs/val\"\n",
    "out_path = \"checkpoints/retrained.pth\"\n",
    "num_epochs = 2 \n",
    "num_classes = 1   \n",
    "training_binary_xie2019(model_path,train_path,val_path, out_path, num_epochs,num_classes)"
   ]
  },
  {
   "cell_type": "code",
   "execution_count": null,
   "metadata": {},
   "outputs": [],
   "source": [
    "#PREDICTION\n",
    "from roefs_predict_lightning import estimate_predictions\n",
    "\n",
    "model_path = \"models/rerained.pth\"\n",
    "data_path = \"roefs_one_classs/val\"\n",
    "\n",
    "\n",
    "estimate_predictions(model_path,data_path)\n"
   ]
  },
  {
   "cell_type": "code",
   "execution_count": 2,
   "metadata": {},
   "outputs": [
    {
     "name": "stdout",
     "output_type": "stream",
     "text": [
      "data loaded size 124, classes ['defect']\n",
      "loaded model tresnet_xl number of classes 17\n"
     ]
    }
   ],
   "source": [
    "#training tresnet xl multi\n",
    "import ml_models\n",
    "model_path = \"models/tresnet_xl-e2e-version_1.pth\"    \n",
    "train_path = \"roefs_one_classs/train\"    \n",
    "val_path = \"roefs_one_classs/val\"\n",
    "out_path = \"checkpoints/retrained.pth\"\n",
    "num_epochs = 2 \n",
    "num_classes = 1  \n",
    "\n",
    "from roefs_trainer_lightning import training_tresnet_xl_e2e\n",
    "\n",
    "training_tresnet_xl_e2e(model_path,train_path,val_path, out_path, num_epochs,num_classes)\n"
   ]
  }
 ],
 "metadata": {
  "kernelspec": {
   "display_name": "Python 3.7.9 ('Pytorch-Lightning')",
   "language": "python",
   "name": "python3"
  },
  "language_info": {
   "codemirror_mode": {
    "name": "ipython",
    "version": 3
   },
   "file_extension": ".py",
   "mimetype": "text/x-python",
   "name": "python",
   "nbconvert_exporter": "python",
   "pygments_lexer": "ipython3",
   "version": "3.7.9"
  },
  "orig_nbformat": 4,
  "vscode": {
   "interpreter": {
    "hash": "1fce1697509ee70dadeba2d7145391dcfbc0b5db6df06c97d5e5d44e1ee301bc"
   }
  }
 },
 "nbformat": 4,
 "nbformat_minor": 2
}
