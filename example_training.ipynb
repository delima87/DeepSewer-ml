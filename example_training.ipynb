{
 "cells": [
  {
   "cell_type": "code",
   "execution_count": 2,
   "metadata": {},
   "outputs": [
    {
     "name": "stderr",
     "output_type": "stream",
     "text": [
      "Global seed set to 1234567890\n",
      "GPU available: True, used: True\n",
      "TPU available: False, using: 0 TPU cores\n",
      "IPU available: False, using: 0 IPUs\n",
      "HPU available: False, using: 0 HPUs\n",
      "LOCAL_RANK: 0 - CUDA_VISIBLE_DEVICES: [0]\n",
      "\n",
      "  | Name  | Type    | Params\n",
      "----------------------------------\n",
      "0 | model | Xie2019 | 9.2 M \n",
      "----------------------------------\n",
      "513       Trainable params\n",
      "9.2 M     Non-trainable params\n",
      "9.2 M     Total params\n",
      "36.639    Total estimated model params size (MB)\n"
     ]
    },
    {
     "name": "stdout",
     "output_type": "stream",
     "text": [
      "loaded model xie2019_binary number of classes 1\n",
      "model to train, classes: ['defect'], data size (train): 124\n",
      "                                                                           "
     ]
    },
    {
     "name": "stderr",
     "output_type": "stream",
     "text": [
      "/home/roberto/anaconda3/envs/pylightning/lib/python3.8/site-packages/pytorch_lightning/trainer/trainer.py:1933: PossibleUserWarning: The number of training batches (31) is smaller than the logging interval Trainer(log_every_n_steps=50). Set a lower value for log_every_n_steps if you want to see logs for the training epoch.\n",
      "  rank_zero_warn(\n"
     ]
    },
    {
     "name": "stdout",
     "output_type": "stream",
     "text": [
      "Epoch 1: 100%|██████████| 38/38 [00:01<00:00, 19.53it/s, loss=-0.702, v_num=5] \n"
     ]
    }
   ],
   "source": [
    "#TRAINING\n",
    "from roefs_trainer_lightning import training_binary_xie2019\n",
    "\n",
    "\n",
    "model_path = \"models/xie2019_binary-binary-version_1.pth\"    \n",
    "train_path = \"roefs_one_classs/train\"    \n",
    "val_path = \"roefs_one_classs/val\"\n",
    "num_epochs = 2 \n",
    "num_classes = 1   \n",
    "training_binary_xie2019(model_path,train_path,val_path,num_epochs,num_classes)"
   ]
  },
  {
   "cell_type": "code",
   "execution_count": 1,
   "metadata": {},
   "outputs": [
    {
     "name": "stderr",
     "output_type": "stream",
     "text": [
      "/home/roberto/anaconda3/envs/pylightning/lib/python3.8/site-packages/tqdm/auto.py:22: TqdmWarning: IProgress not found. Please update jupyter and ipywidgets. See https://ipywidgets.readthedocs.io/en/stable/user_install.html\n",
      "  from .autonotebook import tqdm as notebook_tqdm\n",
      "Global seed set to 1234567890\n"
     ]
    },
    {
     "name": "stdout",
     "output_type": "stream",
     "text": [
      "VALIDATION\n",
      "0 / 7\n"
     ]
    },
    {
     "data": {
      "text/plain": [
       "[['roefs_one_classs/val/defect/00000049.png',\n",
       "  array([0.6456621], dtype=float32)],\n",
       " ['roefs_one_classs/val/defect/00000055.png',\n",
       "  array([0.6838679], dtype=float32)],\n",
       " ['roefs_one_classs/val/defect/00000056.png',\n",
       "  array([0.74370694], dtype=float32)],\n",
       " ['roefs_one_classs/val/defect/00000208.png',\n",
       "  array([0.67519855], dtype=float32)],\n",
       " ['roefs_one_classs/val/defect/00000209.png',\n",
       "  array([0.65197057], dtype=float32)],\n",
       " ['roefs_one_classs/val/defect/00000210.png',\n",
       "  array([0.6772073], dtype=float32)],\n",
       " ['roefs_one_classs/val/defect/00000211.png',\n",
       "  array([0.75728124], dtype=float32)],\n",
       " ['roefs_one_classs/val/defect/00000212.png',\n",
       "  array([0.7063214], dtype=float32)],\n",
       " ['roefs_one_classs/val/defect/00000213.png',\n",
       "  array([0.74779415], dtype=float32)],\n",
       " ['roefs_one_classs/val/defect/00000214.png',\n",
       "  array([0.7452926], dtype=float32)],\n",
       " ['roefs_one_classs/val/defect/00000215.png',\n",
       "  array([0.65104634], dtype=float32)],\n",
       " ['roefs_one_classs/val/defect/00000216.png',\n",
       "  array([0.5929622], dtype=float32)],\n",
       " ['roefs_one_classs/val/defect/00000217.png',\n",
       "  array([0.6351903], dtype=float32)],\n",
       " ['roefs_one_classs/val/defect/00000218.png',\n",
       "  array([0.5865591], dtype=float32)],\n",
       " ['roefs_one_classs/val/defect/00000219.png',\n",
       "  array([0.631361], dtype=float32)],\n",
       " ['roefs_one_classs/val/defect/00000221.png',\n",
       "  array([0.5950106], dtype=float32)],\n",
       " ['roefs_one_classs/val/defect/00000222.png',\n",
       "  array([0.6756513], dtype=float32)],\n",
       " ['roefs_one_classs/val/defect/00000223.png',\n",
       "  array([0.68207306], dtype=float32)],\n",
       " ['roefs_one_classs/val/defect/00000234.png',\n",
       "  array([0.6770532], dtype=float32)],\n",
       " ['roefs_one_classs/val/defect/00000235.png',\n",
       "  array([0.6485101], dtype=float32)],\n",
       " ['roefs_one_classs/val/defect/00000236.png',\n",
       "  array([0.71596557], dtype=float32)],\n",
       " ['roefs_one_classs/val/defect/00000254.png',\n",
       "  array([0.6207003], dtype=float32)],\n",
       " ['roefs_one_classs/val/defect/00000621.png',\n",
       "  array([0.6318029], dtype=float32)],\n",
       " ['roefs_one_classs/val/defect/00000622.png',\n",
       "  array([0.6178535], dtype=float32)],\n",
       " ['roefs_one_classs/val/defect/00000623.png',\n",
       "  array([0.5462109], dtype=float32)]]"
      ]
     },
     "execution_count": 1,
     "metadata": {},
     "output_type": "execute_result"
    }
   ],
   "source": [
    "#PREDICTION\n",
    "from roefs_predict_lightning import estimate_predictions\n",
    "\n",
    "model_path = \"models/rerained.pth\"\n",
    "data_path = \"roefs_one_classs/val\"\n",
    "\n",
    "\n",
    "estimate_predictions(model_path,data_path)\n"
   ]
  }
 ],
 "metadata": {
  "kernelspec": {
   "display_name": "Python 3.8.13 ('pylightning')",
   "language": "python",
   "name": "python3"
  },
  "language_info": {
   "codemirror_mode": {
    "name": "ipython",
    "version": 3
   },
   "file_extension": ".py",
   "mimetype": "text/x-python",
   "name": "python",
   "nbconvert_exporter": "python",
   "pygments_lexer": "ipython3",
   "version": "3.8.13"
  },
  "orig_nbformat": 4,
  "vscode": {
   "interpreter": {
    "hash": "70ce600fe9d3adc34d0344c0324edbaf4a59262e77eef28fdb4d1deceae1ad14"
   }
  }
 },
 "nbformat": 4,
 "nbformat_minor": 2
}
