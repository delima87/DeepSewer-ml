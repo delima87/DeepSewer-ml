{
 "cells": [
  {
   "cell_type": "code",
   "execution_count": null,
   "metadata": {},
   "outputs": [],
   "source": [
    "#TRAINING binary_xie2019\n",
    "from roefs_trainer_lightning import training_binary_xie2019\n",
    "\n",
    "\n",
    "model_path = \"models/xie2019_binary-binary-version_1.pth\"    \n",
    "train_path = \"roefs_one_classs/train\"    \n",
    "val_path = \"roefs_one_classs/val\"\n",
    "out_path = \"checkpoints/retrained.pth\"\n",
    "num_epochs = 2 \n",
    "num_classes = 1   \n",
    "training_binary_xie2019(model_path,train_path,val_path, out_path, num_epochs,num_classes)"
   ]
  },
  {
   "cell_type": "code",
   "execution_count": null,
   "metadata": {},
   "outputs": [],
   "source": [
    "#PREDICTION\n",
    "from roefs_predict_lightning import estimate_predictions\n",
    "\n",
    "model_path = \"models/rerained.pth\"\n",
    "data_path = \"roefs_one_classs/val\"\n",
    "\n",
    "\n",
    "estimate_predictions(model_path,data_path)\n"
   ]
  },
  {
   "cell_type": "code",
   "execution_count": 1,
   "metadata": {},
   "outputs": [
    {
     "name": "stdout",
     "output_type": "stream",
     "text": [
      "data loaded size 124, classes ['defect']\n"
     ]
    },
    {
     "name": "stderr",
     "output_type": "stream",
     "text": [
      "GPU available: True, used: True\n",
      "TPU available: False, using: 0 TPU cores\n",
      "CUDA_VISIBLE_DEVICES: [0]\n"
     ]
    },
    {
     "name": "stdout",
     "output_type": "stream",
     "text": [
      "loaded model tresnet_xl number of classes 17\n"
     ]
    },
    {
     "name": "stderr",
     "output_type": "stream",
     "text": [
      "/home/roberto/anaconda3/envs/Pytorch-Lightning/lib/python3.7/site-packages/pytorch_lightning/utilities/distributed.py:37: UserWarning: Could not log computational graph since the `model.example_input_array` attribute is not set or `input_array` was not given\n",
      "  warnings.warn(*args, **kwargs)\n",
      "\n",
      "  | Name  | Type    | Params\n",
      "----------------------------------\n",
      "0 | model | TResNet | 75 M  \n"
     ]
    },
    {
     "name": "stdout",
     "output_type": "stream",
     "text": [
      "retraining multi\n",
      "Epoch 1: 100%|██████████| 38/38 [00:06<00:00,  5.52it/s, loss=-2.217, v_num=28, step_train_loss=-2.66, epoch_train_loss=-.613]"
     ]
    },
    {
     "name": "stderr",
     "output_type": "stream",
     "text": [
      "Saving latest checkpoint..\n"
     ]
    },
    {
     "name": "stdout",
     "output_type": "stream",
     "text": [
      "Epoch 1: 100%|██████████| 38/38 [00:06<00:00,  5.51it/s, loss=-2.217, v_num=28, step_train_loss=-2.66, epoch_train_loss=-.613]\n",
      "new output layer Linear(in_features=2656, out_features=1, bias=True)\n",
      "Done\n"
     ]
    }
   ],
   "source": [
    "#training tresnet xl multi\n",
    "from roefs_trainer_lightning import training_tresnet_xl_e2e\n",
    "model_path = \"models/tresnet_xl-e2e-version_1.pth\"    \n",
    "train_path = \"roefs_one_classs/train\"    \n",
    "val_path = \"roefs_one_classs/val\"\n",
    "out_path = \"checkpoints/retrained_multi.pth\"\n",
    "num_epochs = 2\n",
    "num_classes = 1 #new classes  \n",
    "\n",
    "training_tresnet_xl_e2e(model_path,train_path,val_path, out_path, num_epochs,num_classes)\n"
   ]
  }
 ],
 "metadata": {
  "kernelspec": {
   "display_name": "Python 3.7.9 ('Pytorch-Lightning')",
   "language": "python",
   "name": "python3"
  },
  "language_info": {
   "codemirror_mode": {
    "name": "ipython",
    "version": 3
   },
   "file_extension": ".py",
   "mimetype": "text/x-python",
   "name": "python",
   "nbconvert_exporter": "python",
   "pygments_lexer": "ipython3",
   "version": "3.7.9"
  },
  "orig_nbformat": 4,
  "vscode": {
   "interpreter": {
    "hash": "1fce1697509ee70dadeba2d7145391dcfbc0b5db6df06c97d5e5d44e1ee301bc"
   }
  }
 },
 "nbformat": 4,
 "nbformat_minor": 2
}
